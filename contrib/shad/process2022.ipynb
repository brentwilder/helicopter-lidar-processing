{
 "cells": [
  {
   "cell_type": "code",
   "execution_count": 2,
   "id": "9992f9c7",
   "metadata": {},
   "outputs": [],
   "source": [
    "import os"
   ]
  },
  {
   "cell_type": "markdown",
   "id": "86c487b5",
   "metadata": {},
   "source": [
    "Set up paths in cell below"
   ]
  },
  {
   "cell_type": "code",
   "execution_count": 5,
   "id": "d8b7206d",
   "metadata": {},
   "outputs": [],
   "source": [
    "collect_date = '20220407'\n",
    "homedir ='/Users/rdcrlsro/Documents/Projects/SnowEx_helipod/2022/20220407/MCS/'\n",
    "jason_path = os.path.join(homedir,'jason')\n",
    "input_path = os.path.join(homedir,'data')\n",
    "proc_path = os.path.join(homedir,'data/*.laz')\n",
    "output_path = os.path.join(homedir,'out/PC/')\n",
    "tile_path = os.path.join(output_path,'tiles')\n",
    "mosaic_path = os.path.join(output_path, 'Mosaic')\n"
   ]
  },
  {
   "cell_type": "code",
   "execution_count": null,
   "id": "aedb9c51",
   "metadata": {},
   "outputs": [],
   "source": [
    "os.chdir(jason_path)\n",
    "!cat Fix_CRS.json"
   ]
  },
  {
   "cell_type": "markdown",
   "id": "b3322732",
   "metadata": {},
   "source": [
    "below i pass paths as variables into parallel and then into pdal. parallel (https://www.gnu.org/software/parallel/sphinx.html) reads all files from input_path and then writes to the the relative path. This solves batching issues, for this step anyway"
   ]
  },
  {
   "cell_type": "code",
   "execution_count": 3,
   "id": "df9cd90e",
   "metadata": {},
   "outputs": [
    {
     "name": "stdout",
     "output_type": "stream",
     "text": [
      "PDAL: readers.las: Couldn't read LAS header. File size insufficient.\n",
      "\n"
     ]
    }
   ],
   "source": [
    "#assign CRS (32611) to each point\n",
    "#parallel holds file names in {}. {/.} appends the file name with cleanCRS \n",
    "os.chdir(input_path)\n",
    "\n",
    "!ls $input_path | parallel -I{} \\\n",
    "    pdal pipeline ./Fix_CRS.json \\\n",
    "    --readers.las.filename={} \\\n",
    "    --writers.las.filename=../out/PC/cleanCRS{/.}.las "
   ]
  },
  {
   "cell_type": "markdown",
   "id": "eefee039",
   "metadata": {},
   "source": [
    "Create a mosaic of all flight lines for the collect using pdal merge. Specifying a unique file name may require use of filters.merge and building/ammending a json file with all .laz input files"
   ]
  },
  {
   "cell_type": "code",
   "execution_count": 47,
   "id": "5603e283",
   "metadata": {},
   "outputs": [],
   "source": [
    "\n",
    "#this simple method is now working, and producing the correct output, but no idea how to pass a variable as a output file name\n",
    "#if file name is left non-specfic (no date), then its easier to keep this batchy without modifications to paths per mission.\n",
    "os.chdir(output_path)\n",
    "!pdal merge ./*.las Mosaic.laz"
   ]
  },
  {
   "cell_type": "code",
   "execution_count": 14,
   "id": "a270efcd",
   "metadata": {},
   "outputs": [],
   "source": [
    "#find grabs full path rather than just file name like ls. relative paths are working in parallel call, but not always in --options for pdal. \n",
    "#MC is mosaic, cleaned (DEM and outlier filters), \n",
    "os.chdir(mosaic_path)\n",
    "!find *.laz | \\\n",
    "parallel -I{} pdal pipeline ../../../jason/cleanPC.json \\\n",
    "--readers.las.filename={} \\\n",
    "--writers.las.filename=MC{/.}.laz \\"
   ]
  },
  {
   "cell_type": "markdown",
   "id": "334f3cac",
   "metadata": {},
   "source": [
    "The smrf filter works only if returns are >=1. 0 value stops the process.  there are 105 0 value points in the cloud.  Need to learn to use filters.mongo to write an expression to remove those points."
   ]
  },
  {
   "cell_type": "code",
   "execution_count": 31,
   "id": "64484dd5",
   "metadata": {},
   "outputs": [],
   "source": [
    "os.chdir(mosaic_path)\n",
    "os.chdir(\"clean\")\n",
    "\n",
    "!find *.laz | \\\n",
    "parallel -I{} pdal pipeline ../../../../jason/remove_veg.json \\\n",
    "--readers.las.filename={} \\\n",
    "--writers.las.filename=Vo{/.}.las \\\n",
    "--writers.gdal.filename=Vo{/.}.tif "
   ]
  },
  {
   "cell_type": "code",
   "execution_count": null,
   "id": "8a8327bf",
   "metadata": {},
   "outputs": [],
   "source": []
  }
 ],
 "metadata": {
  "kernelspec": {
   "display_name": "Python 3.8.9 64-bit",
   "language": "python",
   "name": "python3"
  },
  "language_info": {
   "codemirror_mode": {
    "name": "ipython",
    "version": 3
   },
   "file_extension": ".py",
   "mimetype": "text/x-python",
   "name": "python",
   "nbconvert_exporter": "python",
   "pygments_lexer": "ipython3",
   "version": "3.8.9"
  },
  "vscode": {
   "interpreter": {
    "hash": "31f2aee4e71d21fbe5cf8b01ff0e069b9275f58929596ceb00d14d90e3e16cd6"
   }
  }
 },
 "nbformat": 4,
 "nbformat_minor": 5
}
